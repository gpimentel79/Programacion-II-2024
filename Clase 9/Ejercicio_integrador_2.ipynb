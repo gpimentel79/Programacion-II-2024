{
 "cells": [
  {
   "cell_type": "markdown",
   "metadata": {},
   "source": [
    "\n",
    "# Ejercicio: Sistema de Gestión de Productos en una Tienda\n",
    "\n",
    "## Descripción\n",
    "\n",
    "Se va a desarrollar un sistema para gestionar diferentes tipos de productos en una tienda. Cada tipo de producto tiene propiedades comunes, pero también características específicas dependiendo de su naturaleza. Se utilizarán **herencia** y **polimorfismo** para modelar este sistema en Python.\n",
    "\n",
    "### Tipos de productos:\n",
    "\n",
    "1. **Producto (clase base):** Contiene los atributos y métodos comunes a todos los productos.\n",
    "2. **Electrónico (clase derivada):** Representa un producto electrónico con características específicas como la garantía.\n",
    "3. **Ropa (clase derivada):** Representa una prenda de ropa que tiene un tamaño.\n",
    "\n",
    "## Requisitos\n",
    "\n",
    "### Clase Base: `Producto`\n",
    "\n",
    "- Atributos:\n",
    "  - `nombre`: El nombre del producto.\n",
    "  - `precio`: El precio del producto.\n",
    "  \n",
    "- Métodos:\n",
    "  - `mostrar_informacion()`: Muestra el nombre y el precio del producto.\n",
    "  - `calcular_descuento()`: Método abstracto que será implementado por las clases derivadas para calcular descuentos en productos específicos.\n",
    "\n",
    "### Clase Derivada: `Electrónico`\n",
    "\n",
    "- Atributos adicionales:\n",
    "  - `garantia`: Indica los años de garantía del producto.\n",
    "  \n",
    "- Métodos:\n",
    "  - Sobreescribe `mostrar_informacion()` para incluir la garantía.\n",
    "  - Implementa `calcular_descuento()` para devolver un 10% de descuento en productos electrónicos.\n",
    "\n",
    "### Clase Derivada: `Ropa`\n",
    "\n",
    "- Atributos adicionales:\n",
    "  - `talla`: Indica la talla de la prenda (S, M, L, etc.).\n",
    "  \n",
    "- Métodos:\n",
    "  - Sobreescribe `mostrar_informacion()` para incluir la talla de la prenda.\n",
    "  - Implementa `calcular_descuento()` para devolver un 20% de descuento en prendas de ropa.\n",
    "\n",
    "## Ejemplo de Ejecución\n",
    "\n",
    "```python\n",
    "# Crear productos\n",
    "producto1 = Electrónico(\"Televisor\", 1000, 2)\n",
    "producto2 = Ropa(\"Camiseta\", 30, \"M\")\n",
    "\n",
    "# Lista de productos\n",
    "productos = [producto1, producto2]\n",
    "\n",
    "# Mostrar información y calcular descuento de cada producto\n",
    "for producto in productos:\n",
    "    producto.mostrar_informacion()\n",
    "    print(f\"Descuento: {producto.calcular_descuento()}%\n",
    "\")\n",
    "```\n",
    "\n",
    "### Salida esperada:\n",
    "\n",
    "```\n",
    "Nombre: Televisor, Precio: 1000, Garantía: 2 años\n",
    "Descuento: 10%\n",
    "\n",
    "Nombre: Camiseta, Precio: 30, Talla: M\n",
    "Descuento: 20%\n",
    "```\n",
    "\n",
    "## Objetivos del Ejercicio:\n",
    "\n",
    "- Practicar el concepto de **herencia** creando clases derivadas de una clase base en Python.\n",
    "- Implementar **polimorfismo** utilizando métodos que son redefinidos en las clases derivadas.\n",
    "- Aplicar principios de la **Programación Orientada a Objetos (POO)** como la sobreescritura de métodos y la creación de atributos específicos para cada tipo de producto.\n"
   ]
  },
  {
   "cell_type": "code",
   "execution_count": 1,
   "metadata": {},
   "outputs": [],
   "source": [
    "# Creo la clase padre\n",
    "class Producto:\n",
    "    def __init__(self,nombre,precio):\n",
    "        self.nombre = nombre\n",
    "        self.precio = precio\n",
    "    def mostrar_informacion(self):\n",
    "        print(f\"Nombre:{self.nombre}, Precio:{self.precio}\")\n",
    "        \n",
    "    def calcular_descuento(self):\n",
    "        pass\n",
    "    \n",
    "    \n",
    "    "
   ]
  },
  {
   "cell_type": "code",
   "execution_count": 34,
   "metadata": {},
   "outputs": [],
   "source": [
    "#Creo primer clase hija dependiente de Producto\n",
    "class Electronico(Producto):\n",
    "    def __init__(self,nombre,precio,garantia):\n",
    "        super().__init__(nombre,precio)\n",
    "        self.garantia=garantia\n",
    "    def mostrar_informacion(self): \n",
    "        print(f\"Nombre:{self.nombre} - Precio: {self.precio} - Garantia:{self.garantia}\")\n",
    "    def calcular_descuento(self):\n",
    "        return self.precio * 0.1\n",
    "    "
   ]
  },
  {
   "cell_type": "code",
   "execution_count": 81,
   "metadata": {},
   "outputs": [],
   "source": [
    "#Creo segunda clase hija dependiente de Producto\n",
    "class Ropa(Producto):\n",
    "    def __init__(self,nombre,precio,talla):\n",
    "        super().__init__(nombre,precio)\n",
    "        self.talla = talla\n",
    "    def mostrar_informacion(self):\n",
    "        info_producto=super().mostrar_informacion()\n",
    "        info_talla=f\"Talla:{self.talla}\"\n",
    "        return info_producto + info_talla\n",
    "    def calcular_descuento(self):\n",
    "        return self.precio * 0.2\n"
   ]
  },
  {
   "cell_type": "code",
   "execution_count": 82,
   "metadata": {},
   "outputs": [],
   "source": [
    "electronico =Electronico(\"Xiaomi Redmi 14c\",1500000,\"6 meses\")\n"
   ]
  },
  {
   "cell_type": "code",
   "execution_count": 83,
   "metadata": {},
   "outputs": [],
   "source": [
    "electronico1=Electronico(\"Samsung s24\",2000000,\"12 meses\")"
   ]
  },
  {
   "cell_type": "code",
   "execution_count": 84,
   "metadata": {},
   "outputs": [],
   "source": [
    "ropa=Ropa(\"Remera Adidas\",50000,\"M\") "
   ]
  },
  {
   "cell_type": "code",
   "execution_count": 85,
   "metadata": {},
   "outputs": [],
   "source": [
    "ropa1=Ropa(\"Botines Nike Mercurial\",250000,\"40\")"
   ]
  },
  {
   "cell_type": "code",
   "execution_count": 86,
   "metadata": {},
   "outputs": [],
   "source": [
    "productos_tienda =[electronico,ropa,electronico1,ropa1]"
   ]
  },
  {
   "cell_type": "code",
   "execution_count": 87,
   "metadata": {},
   "outputs": [
    {
     "name": "stdout",
     "output_type": "stream",
     "text": [
      "Nombre:Xiaomi Redmi 14c - Precio: 1500000 - Garantia:6 meses\n",
      "Nombre:Remera Adidas, Precio:50000\n"
     ]
    },
    {
     "ename": "TypeError",
     "evalue": "unsupported operand type(s) for +: 'NoneType' and 'str'",
     "output_type": "error",
     "traceback": [
      "\u001b[1;31m---------------------------------------------------------------------------\u001b[0m",
      "\u001b[1;31mTypeError\u001b[0m                                 Traceback (most recent call last)",
      "Cell \u001b[1;32mIn [87], line 2\u001b[0m\n\u001b[0;32m      1\u001b[0m \u001b[38;5;28;01mfor\u001b[39;00m carrito \u001b[38;5;129;01min\u001b[39;00m productos_tienda:\n\u001b[1;32m----> 2\u001b[0m     carrito\u001b[38;5;241m.\u001b[39mmostrar_informacion()\n",
      "Cell \u001b[1;32mIn [81], line 9\u001b[0m, in \u001b[0;36mRopa.mostrar_informacion\u001b[1;34m(self)\u001b[0m\n\u001b[0;32m      7\u001b[0m info_producto\u001b[38;5;241m=\u001b[39m\u001b[38;5;28msuper\u001b[39m()\u001b[38;5;241m.\u001b[39mmostrar_informacion()\n\u001b[0;32m      8\u001b[0m info_talla\u001b[38;5;241m=\u001b[39m\u001b[38;5;124mf\u001b[39m\u001b[38;5;124m\"\u001b[39m\u001b[38;5;124mTalla:\u001b[39m\u001b[38;5;132;01m{\u001b[39;00m\u001b[38;5;28mself\u001b[39m\u001b[38;5;241m.\u001b[39mtalla\u001b[38;5;132;01m}\u001b[39;00m\u001b[38;5;124m\"\u001b[39m\n\u001b[1;32m----> 9\u001b[0m \u001b[38;5;28;01mreturn\u001b[39;00m \u001b[43minfo_producto\u001b[49m\u001b[43m \u001b[49m\u001b[38;5;241;43m+\u001b[39;49m\u001b[43m \u001b[49m\u001b[43minfo_talla\u001b[49m\n",
      "\u001b[1;31mTypeError\u001b[0m: unsupported operand type(s) for +: 'NoneType' and 'str'"
     ]
    }
   ],
   "source": [
    "for carrito in productos_tienda:\n",
    "    carrito.mostrar_informacion()"
   ]
  }
 ],
 "metadata": {
  "kernelspec": {
   "display_name": "Python 3",
   "language": "python",
   "name": "python3"
  },
  "language_info": {
   "codemirror_mode": {
    "name": "ipython",
    "version": 3
   },
   "file_extension": ".py",
   "mimetype": "text/x-python",
   "name": "python",
   "nbconvert_exporter": "python",
   "pygments_lexer": "ipython3",
   "version": "3.9.13"
  }
 },
 "nbformat": 4,
 "nbformat_minor": 2
}
