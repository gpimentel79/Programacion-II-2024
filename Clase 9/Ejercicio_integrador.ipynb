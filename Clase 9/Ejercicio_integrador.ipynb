{
 "cells": [
  {
   "cell_type": "markdown",
   "metadata": {},
   "source": [
    "\n",
    "# Ejercicio: Sistema de Gestión de Empleados\n",
    "\n",
    "En este ejercicio, desarrollarás un sistema para gestionar diferentes tipos de empleados utilizando **herencia** y **polimorfismo** en Python.\n",
    "\n",
    "## Descripción del Problema:\n",
    "\n",
    "La empresa tiene tres tipos de empleados:\n",
    "1. **Empleado** (clase base): Esta clase tendrá atributos y métodos comunes a todos los empleados.\n",
    "2. **Desarrollador** (clase derivada): Es un tipo específico de empleado que tiene un nivel de habilidades.\n",
    "3. **Gerente** (clase derivada): Es un tipo específico de empleado que tiene un equipo de empleados bajo su supervisión.\n",
    "\n",
    "### Requisitos:\n",
    "1. Define una **clase base `Empleado`** con los siguientes atributos:\n",
    "   - `nombre`: El nombre del empleado.\n",
    "   - `salario`: El salario mensual del empleado.\n",
    "   \n",
    "   Métodos:\n",
    "   - `mostrar_informacion()`: Muestra el nombre y salario del empleado.\n",
    "   - `calcular_bono()`: Devuelve el bono que será el 10% del salario.\n",
    "\n",
    "2. Define una **clase `Desarrollador`** que herede de `Empleado` y tenga los siguientes atributos adicionales:\n",
    "   - `nivel_habilidad`: Un número entre 1 y 5 que representa el nivel de habilidades técnicas del desarrollador.\n",
    "   \n",
    "   Métodos:\n",
    "   - Sobreescribe el método `calcular_bono()` para que el bono sea del 15% del salario para un desarrollador.\n",
    "   \n",
    "3. Define una **clase `Gerente`** que herede de `Empleado` y tenga los siguientes atributos adicionales:\n",
    "   - `equipo`: Una lista de objetos de tipo `Empleado` que representan a los empleados bajo su supervisión.\n",
    "   \n",
    "   Métodos:\n",
    "   - Sobreescribe el método `mostrar_informacion()` para que también muestre cuántos empleados tiene bajo su supervisión.\n",
    "   - Sobreescribe el método `calcular_bono()` para que el bono sea del 20% del salario.\n",
    "\n",
    "4. Crea una lista de empleados (incluyendo desarrolladores y gerentes) y muestra la información de cada uno utilizando el **polimorfismo**. Calcula y muestra también el bono correspondiente a cada empleado.\n",
    "\n",
    "## Ejemplo de Ejecución:\n",
    "\n",
    "```python\n",
    "# Crear empleados\n",
    "empleado1 = Empleado(\"Carlos\", 2000)\n",
    "desarrollador1 = Desarrollador(\"Ana\", 3500, 4)\n",
    "gerente1 = Gerente(\"Lucía\", 5000, [empleado1, desarrollador1])\n",
    "\n",
    "# Lista de empleados\n",
    "empleados = [empleado1, desarrollador1, gerente1]\n",
    "\n",
    "# Mostrar información y calcular bonos\n",
    "for empleado in empleados:\n",
    "    empleado.mostrar_informacion()\n",
    "    print(f\"Bono: {empleado.calcular_bono()}\n",
    "\")\n",
    "```\n",
    "\n",
    "## Salida esperada:\n",
    "\n",
    "```\n",
    "Empleado: Carlos, Salario: 2000\n",
    "Bono: 200.0\n",
    "\n",
    "Desarrollador: Ana, Salario: 3500, Nivel de habilidad: 4\n",
    "Bono: 525.0\n",
    "\n",
    "Gerente: Lucía, Salario: 5000\n",
    "Tiene 2 empleados bajo su supervisión.\n",
    "Bono: 1000.0\n",
    "```\n",
    "\n",
    "### Objetivos del Ejercicio:\n",
    "- Practicar el concepto de **herencia** en Python, creando clases derivadas que heredan de una clase base.\n",
    "- Implementar **polimorfismo** utilizando métodos que son redefinidos en las clases derivadas.\n",
    "- Aplicar principios de la Programación Orientada a Objetos (POO) como la sobreescritura de métodos y el uso de atributos específicos para cada tipo de empleado.\n"
   ]
  },
  {
   "cell_type": "code",
   "execution_count": 64,
   "metadata": {},
   "outputs": [],
   "source": [
    "class Empleado:\n",
    "    def __init__(self,nombre,salario):\n",
    "        self.nombre = nombre\n",
    "        self.salario = salario\n",
    "    def mostrar_informacion(self):\n",
    "        print(f\"Nombre: {self.nombre}, Salario: {self.salario}\")\n",
    "    \n",
    "    def calcular_bono(self):\n",
    "        return self.salario * 0.10\n",
    "    \n",
    "class Desarrollador(Empleado):\n",
    "    def __init__(self, nombre, salario, nivel_habilidad):\n",
    "        super().__init__(nombre, salario)\n",
    "        self.nivel_habilidad = nivel_habilidad\n",
    "    def mostrar_informacion(self):\n",
    "        print(f\"Nivel de habilidad: {self.nivel_habilidad}\")\n",
    "           \n",
    "    def calcular_bono(self):\n",
    "        return self.salario * 0.15\n",
    "class Gerente(Empleado):\n",
    "    def __init__(self,nombre,salario,equipo):\n",
    "        super().__init__(nombre,salario)\n",
    "        self.equipo = equipo\n",
    "    def mostrar_informacion(self):\n",
    "        print(f\"Equipo: {len(self.equipo)} empleados\")\n",
    "        \n",
    "    def calcular_bono(self):\n",
    "        return self.salario * 0.20"
   ]
  },
  {
   "cell_type": "code",
   "execution_count": 65,
   "metadata": {},
   "outputs": [],
   "source": [
    "empleado1 = Empleado(\"Gonzalo\", 100000)\n"
   ]
  },
  {
   "cell_type": "code",
   "execution_count": 66,
   "metadata": {},
   "outputs": [],
   "source": [
    "while True:\n",
    "    nivel_hab =int(input(\"Ingrese un nivel de habilidad entre 1 y 5\"))\n",
    "    if nivel_hab >=1 and nivel_hab <=5:\n",
    "        break\n",
    "desarrollador1=Desarrollador(\"Pedro\",250000,nivel_hab)"
   ]
  },
  {
   "cell_type": "code",
   "execution_count": 67,
   "metadata": {},
   "outputs": [
    {
     "name": "stdout",
     "output_type": "stream",
     "text": [
      "Nivel de habilidad: 3\n"
     ]
    }
   ],
   "source": [
    "desarrollador1.mostrar_informacion()"
   ]
  },
  {
   "cell_type": "code",
   "execution_count": 68,
   "metadata": {},
   "outputs": [],
   "source": [
    "gerente1=Gerente(\"Juan\",1000000,[empleado1,desarrollador1])"
   ]
  },
  {
   "cell_type": "code",
   "execution_count": 69,
   "metadata": {},
   "outputs": [
    {
     "name": "stdout",
     "output_type": "stream",
     "text": [
      "Equipo: 2 empleados\n"
     ]
    }
   ],
   "source": [
    "gerente1.mostrar_informacion()"
   ]
  },
  {
   "cell_type": "code",
   "execution_count": 44,
   "metadata": {},
   "outputs": [],
   "source": [
    "\n",
    "\n",
    "# Lista de empleados\n",
    "empleados = [empleado1, desarrollador1, gerente1]"
   ]
  },
  {
   "cell_type": "code",
   "execution_count": 70,
   "metadata": {},
   "outputs": [
    {
     "name": "stdout",
     "output_type": "stream",
     "text": [
      "Empleado: Gonzalo, Salario: 100000\n",
      "Bono: 10000.0\n",
      "\n",
      "Desarrollador: Pedro, Salario: 250000, Nivel de habilidad: 4\n",
      "Bono: 37500.0\n",
      "\n",
      "Gerente: Juan, Salario: 1000000\n",
      "Tiene 2 empleados bajo su supervisión.\n",
      "Bono: 200000.0\n",
      "\n"
     ]
    }
   ],
   "source": [
    "for empleado in empleados:\n",
    "    empleado.mostrar_informacion()\n",
    "    print(f\"Bono: {empleado.calcular_bono()}\\n\")"
   ]
  },
  {
   "cell_type": "markdown",
   "metadata": {},
   "source": [
    "- Sobreescribe el método `mostrar_informacion()` para que también muestre cuántos empleados tiene bajo su supervisión.\n",
    "\n",
    "#### El error que teniamos era que el metodo mostrar información no nos planteba mostrar la lista de objetos que como vimos nos daba una referencia en memoria sino mostrar la cantidad de empleados. Ahi corregi el codigo para que en lugar de referenciar los objetos de la lista muestre con el metodo len() el largo de la lista para poder mostrar la cantidad"
   ]
  }
 ],
 "metadata": {
  "kernelspec": {
   "display_name": "Python 3",
   "language": "python",
   "name": "python3"
  },
  "language_info": {
   "codemirror_mode": {
    "name": "ipython",
    "version": 3
   },
   "file_extension": ".py",
   "mimetype": "text/x-python",
   "name": "python",
   "nbconvert_exporter": "python",
   "pygments_lexer": "ipython3",
   "version": "3.9.13"
  }
 },
 "nbformat": 4,
 "nbformat_minor": 2
}
